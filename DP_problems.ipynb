{
  "nbformat": 4,
  "nbformat_minor": 0,
  "metadata": {
    "colab": {
      "name": "DP_problems",
      "provenance": [],
      "authorship_tag": "ABX9TyM7T9LGGfdiM7CNhFspxo9T",
      "include_colab_link": true
    },
    "kernelspec": {
      "name": "python3",
      "display_name": "Python 3"
    }
  },
  "cells": [
    {
      "cell_type": "markdown",
      "metadata": {
        "id": "view-in-github",
        "colab_type": "text"
      },
      "source": [
        "<a href=\"https://colab.research.google.com/github/thefr33radical/APPNP/blob/master/DP_problems.ipynb\" target=\"_parent\"><img src=\"https://colab.research.google.com/assets/colab-badge.svg\" alt=\"Open In Colab\"/></a>"
      ]
    },
    {
      "cell_type": "code",
      "metadata": {
        "colab": {
          "base_uri": "https://localhost:8080/"
        },
        "id": "1ypi8162zmrw",
        "outputId": "744cbebd-b56c-4216-eb56-dbbdc68e2297"
      },
      "source": [
        "# Kadane Algorithm :  Maximum contagious sum\n",
        "# T(C)= O(n) / S(C)=O(n)\n",
        "# Link : https://hackernoon.com/kadanes-algorithm-explained-50316f4fd8a6\n",
        "\n",
        "data =[-2, -3, 4, -1, -2, 1, 5, -3]\n",
        "\n",
        "def naive_contagious_sum(data):\n",
        "  total=0\n",
        "  max_total=-999\n",
        "  index_s=0\n",
        "  index_e=0\n",
        "\n",
        "  for window in range(len(data),0,-1):\n",
        "    start=0\n",
        "    end=start+window\n",
        "    while end <len(data):\n",
        "    \n",
        "      total=sum(data[start:end])\n",
        "\n",
        "      if total > max_total:\n",
        "        max_total=total\n",
        "        index_s=start\n",
        "        index_e=end-1\n",
        "\n",
        "      start+=1\n",
        "      end+=1\n",
        "  print(max_total,index_s,index_e)\n",
        "\n",
        "def kadane(data):\n",
        "  start_index=0\n",
        "  end_index=0\n",
        "  cur_total=0\n",
        "  total=0\n",
        "\n",
        "\n",
        "  for i in range(len(data)):\n",
        "    cur_total+=data[i]\n",
        "    if cur_total <0 :\n",
        "      cur_total=0\n",
        "      start_index=i+1\n",
        "\n",
        "    if cur_total > total:\n",
        "      total=cur_total\n",
        "      end_index=i\n",
        "\n",
        "  print(\"start index :\",start_index,\"end index :\", end_index,\"total :\",total)\n",
        "\n",
        "#naive_contagious_sum(data)\n",
        "kadane(data)"
      ],
      "execution_count": 1,
      "outputs": [
        {
          "output_type": "stream",
          "text": [
            "start index : 2 end index : 6 total : 7\n"
          ],
          "name": "stdout"
        }
      ]
    },
    {
      "cell_type": "code",
      "metadata": {
        "colab": {
          "base_uri": "https://localhost:8080/"
        },
        "id": "N8CYsE4M2sPC",
        "outputId": "27e11e31-3f14-4c36-80fd-cb48d9ff13da"
      },
      "source": [
        "# maximum contagious sum array - Kadane\n",
        "# maximum sum rectangle\n",
        "\n",
        "\n",
        "\n",
        "def kadane(arr):\n",
        "  index_start=index_end=0\n",
        "  total_max=cur_max=temp=0\n",
        "\n",
        "  karr=[0]*len(arr)\n",
        "  for i in range(1,len(arr)):\n",
        "    cur_max+=arr[i-1]\n",
        "    if cur_max < 0:\n",
        "      cur_max=0\n",
        "      temp=i+1\n",
        "    if cur_max > total_max:\n",
        "      total_max=cur_max\n",
        "      start_index=temp\n",
        "      end_index=i\n",
        "  return start_index,end_index,total_max\n",
        "\n",
        "def MaxSumRectange(matrix):\n",
        "  krow=[0]*len(matrix)\n",
        "  top=left=bottom=right=cur_max=total_max=0\n",
        "\n",
        "  for i in range(len(matrix)):\n",
        "    krow=[0]*len(matrix)\n",
        "    for j in range(i,len(matrix)):\n",
        "      krow+=matrix[i]\n",
        "      t,b,cur_max=kadane(krow)\n",
        "      if cur_max > total_max:\n",
        "        left=i\n",
        "        right=j\n",
        "        top=t\n",
        "        bottom=b\n",
        "        total_max=cur_max\n",
        "  return top,bottom,left,right,total_max\n",
        "\n",
        "MaxSumRectange(arr)\n",
        "arr = [[ 1, 2, -1, -4, -20 ],\n",
        "                        [ -8, -3, 4, 2, 1 ],\n",
        "                        [ 3, 8, 10, 1, 3 ],\n",
        "                        [ -4, -1, 1, 7, -6 ] ]\n",
        "print(MaxSumRectange(arr))"
      ],
      "execution_count": 10,
      "outputs": [
        {
          "output_type": "stream",
          "text": [
            "(0, 13, 2, 3, 47)\n"
          ],
          "name": "stdout"
        }
      ]
    }
  ]
}